{
 "cells": [
  {
   "cell_type": "markdown",
   "metadata": {
    "collapsed": false
   },
   "source": [
    "## Math 157: Intro to Mathematical Software\n",
    "## UC San Diego, Winter 2020\n",
    "\n",
    "## March 20, 2020: Algorithmic Bias in Machine Learning\n",
    "\n",
    "##### Final Project by Ella Lucas"
   ]
  },
  {
   "cell_type": "markdown",
   "metadata": {
    "collapsed": false
   },
   "source": [
    "### Introduction\n",
    "\n",
    "#### Machine Learning...\n",
    "\n",
    "*Machine Learning* is a branch of computer science concerned with the application of algorithms and neural networks to improve computer systems.\n",
    "\n",
    "Data drives the machine learning process. \"Training data\" applied to mathematical models summarizes trends to make decisions on \"test data\", or information that the model has not seen before.\n",
    "\n",
    "Machine Learning was inspired by Donald Hebb's 1949 research on brain cell interaction. The concept \"fire together wire together\" referring to neural mechanisms of learning inspired the mathematics driving machine learning (like gradient descent) [1].\n",
    "\n",
    "Within the constraints of our course, we studied Machine Learning via the Python module 'scikit-learn':\n",
    "\n",
    "> Machine Learning in Python [18]\n",
    ">\n",
    "> - Simple and efficient tools for data mining and data analysis\n",
    "> - Accessible to everybody, and reusable in various contexts\n",
    "> - Built on NumPy, SciPy, and matplotlib\n",
    "> - Open source, commercially usable - BSD license\n",
    "\n",
    "In this notebook, skikit-learn will be used to demonstrate some examples of algorithmic bias in machine learning.\n",
    "\n",
    "#### & its consequence: Algorithmic Bias\n",
    "\n",
    "*Algorithmic Bias* described systematic and repeatable errors in a computer system that create unfair outcomes [2].\n",
    "\n",
    "Modern technology is an asset to the human experience, however sophisticated tools meant to simulate the process of decision making have proven too good for their use cases. Applying machine learning to datasets that inadvertently reflect outdated legislation, social injustice, or subconscious bias results in a model that will perpetuate those themes when put to production. Machine learning is a specialized science, and as a result society is often unaware of the technicalities that drive the decision making process, and so it can be difficult to think critically about machine impartiality.\n",
    "\n",
    "In lecture, we discussed common uses of machine learning and how they can reflect algorithmic bias when fed biased data [18]:\n",
    "\n",
    "- Text inputs\n",
    "   - spam filtering (downside: [can also be used to defeat spam filtering](https://www.usenix.org/legacy/event/leet08/tech/full_papers/nelson/nelson_html/))\n",
    "   - machine translation (downside: [may reflect gender bias](https://www.fastcompany.com/3010223/google-translates-gender-problem-and-bing-translates-and-systrans))\n",
    "   - chat bots (downside: [may reflect incivility](https://arstechnica.com/information-technology/2016/03/microsoft-terminates-its-tay-ai-chatbot-after-she-turns-into-a-nazi/))\n",
    "- Graphical inputs\n",
    "   - face detection (downside: [may reflect racial bias](https://www.youtube.com/watch?v=t4DT3tQqgRM))\n",
    "- Sound inputs\n",
    "   - speech-to-text (downside: [may discriminate based on accent](https://www.wired.com/2017/03/voice-is-the-next-big-platform-unless-you-have-an-accent/) or [based on gender](https://makingnoiseandhearingthings.com/2016/07/12/googles-speech-recognition-has-a-gender-bias/))\n",
    "- Location inputs\n",
    "   - augmented reality (downside: [may reflect racial bias in housing](http://www.usatoday.com/story/tech/news/2016/08/09/pokemon-go-racist-app-redlining-communities-color-racist-pokestops-gyms/87732734/))\n",
    "- Situational inputs\n",
    "   - recommendations (downside: [may reflect gender bias](https://phys.org/news/2016-09-gender-bias-algorithms.html))\n",
    "   - online ads (downside: [may reflect racial bias](http://arxiv.org/ftp/arxiv/papers/1301/1301.6822.pdf))\n",
    "   - crime prediction and prevention (downside: [may perpetuate racial disparities](https://www.sciencenews.org/blog/science-public/data-driven-crime-prediction-fails-erase-human-bias))\n",
    "   - prison sentencing (downside: [may perpetuate racial disparaties](https://www.propublica.org/article/machine-bias-risk-assessments-in-criminal-sentencing))\n",
    "   - content aggregation (downside: [may facilitate political manipulation](https://www.theguardian.com/technology/2017/sep/06/facebook-political-ads-russia-us-election-trump-clinton))\n",
    "\n",
    "This notebook will examine several of the above examples in depth, to see firsthand how biased data leads to biased decisions."
   ]
  },
  {
   "cell_type": "markdown",
   "metadata": {
    "collapsed": false
   },
   "source": [
    "### Big Data\n",
    "Open source datasets are widely avaliable, as we have seen via scikit-learn and R. Macro- and micro-data can be fit to statistical models that scale - and are used to determine outcomes that may be systematically less favorable to individuals belonging to a certain group.\n",
    "\n",
    "The reality is, it all starts with data.\n",
    "\n",
    "#### A Simple Example: Oscar Winners\n",
    "\n",
    "It is important to acknowledge that we live in a biased world. Data that has been gathered from our world will contain those biases.\n",
    "\n",
    "Let's examine a real-world dataset to see for ourselves, as well as dive into some theory on how bias can be identified and corrected in data."
   ]
  },
  {
   "cell_type": "markdown",
   "metadata": {
    "collapsed": false
   },
   "source": [
    "We'll illustrate with a [Kaggle dataset](https://www.kaggle.com/fmejia21/demographics-of-academy-awards-oscars-winners) containing demographic information of Oscar winners since 1928."
   ]
  },
  {
   "cell_type": "code",
   "execution_count": 1,
   "metadata": {
    "collapsed": false,
    "scrolled": true
   },
   "outputs": [
    {
     "data": {
      "text/html": [
       "<div>\n",
       "<style scoped>\n",
       "    .dataframe tbody tr th:only-of-type {\n",
       "        vertical-align: middle;\n",
       "    }\n",
       "\n",
       "    .dataframe tbody tr th {\n",
       "        vertical-align: top;\n",
       "    }\n",
       "\n",
       "    .dataframe thead th {\n",
       "        text-align: right;\n",
       "    }\n",
       "</style>\n",
       "<table border=\"1\" class=\"dataframe\">\n",
       "  <thead>\n",
       "    <tr style=\"text-align: right;\">\n",
       "      <th></th>\n",
       "      <th>_unit_id</th>\n",
       "      <th>_golden</th>\n",
       "      <th>_unit_state</th>\n",
       "      <th>_trusted_judgments</th>\n",
       "      <th>_last_judgment_at</th>\n",
       "      <th>birthplace</th>\n",
       "      <th>birthplace:confidence</th>\n",
       "      <th>date_of_birth</th>\n",
       "      <th>date_of_birth:confidence</th>\n",
       "      <th>race_ethnicity</th>\n",
       "      <th>...</th>\n",
       "      <th>award</th>\n",
       "      <th>biourl</th>\n",
       "      <th>birthplace_gold</th>\n",
       "      <th>date_of_birth_gold</th>\n",
       "      <th>movie</th>\n",
       "      <th>person</th>\n",
       "      <th>race_ethnicity_gold</th>\n",
       "      <th>religion_gold</th>\n",
       "      <th>sexual_orientation_gold</th>\n",
       "      <th>year_of_award_gold</th>\n",
       "    </tr>\n",
       "  </thead>\n",
       "  <tbody>\n",
       "    <tr>\n",
       "      <th>0</th>\n",
       "      <td>670454353</td>\n",
       "      <td>False</td>\n",
       "      <td>finalized</td>\n",
       "      <td>3</td>\n",
       "      <td>2/10/15 3:45</td>\n",
       "      <td>Chisinau, Moldova</td>\n",
       "      <td>1.0</td>\n",
       "      <td>30-Sep-1895</td>\n",
       "      <td>1.0</td>\n",
       "      <td>White</td>\n",
       "      <td>...</td>\n",
       "      <td>Best Director</td>\n",
       "      <td>http://www.nndb.com/people/320/000043191/</td>\n",
       "      <td>NaN</td>\n",
       "      <td>NaN</td>\n",
       "      <td>Two Arabian Knights</td>\n",
       "      <td>Lewis Milestone</td>\n",
       "      <td>NaN</td>\n",
       "      <td>NaN</td>\n",
       "      <td>NaN</td>\n",
       "      <td>NaN</td>\n",
       "    </tr>\n",
       "    <tr>\n",
       "      <th>1</th>\n",
       "      <td>670454354</td>\n",
       "      <td>False</td>\n",
       "      <td>finalized</td>\n",
       "      <td>3</td>\n",
       "      <td>2/10/15 2:03</td>\n",
       "      <td>Glasgow, Scotland</td>\n",
       "      <td>1.0</td>\n",
       "      <td>2-Feb-1886</td>\n",
       "      <td>1.0</td>\n",
       "      <td>White</td>\n",
       "      <td>...</td>\n",
       "      <td>Best Director</td>\n",
       "      <td>http://www.nndb.com/people/626/000042500/</td>\n",
       "      <td>NaN</td>\n",
       "      <td>NaN</td>\n",
       "      <td>The Divine Lady</td>\n",
       "      <td>Frank Lloyd</td>\n",
       "      <td>NaN</td>\n",
       "      <td>NaN</td>\n",
       "      <td>NaN</td>\n",
       "      <td>NaN</td>\n",
       "    </tr>\n",
       "    <tr>\n",
       "      <th>2</th>\n",
       "      <td>670454355</td>\n",
       "      <td>False</td>\n",
       "      <td>finalized</td>\n",
       "      <td>3</td>\n",
       "      <td>2/10/15 2:05</td>\n",
       "      <td>Chisinau, Moldova</td>\n",
       "      <td>1.0</td>\n",
       "      <td>30-Sep-1895</td>\n",
       "      <td>1.0</td>\n",
       "      <td>White</td>\n",
       "      <td>...</td>\n",
       "      <td>Best Director</td>\n",
       "      <td>http://www.nndb.com/people/320/000043191/</td>\n",
       "      <td>NaN</td>\n",
       "      <td>NaN</td>\n",
       "      <td>All Quiet on the Western Front</td>\n",
       "      <td>Lewis Milestone</td>\n",
       "      <td>NaN</td>\n",
       "      <td>NaN</td>\n",
       "      <td>NaN</td>\n",
       "      <td>NaN</td>\n",
       "    </tr>\n",
       "    <tr>\n",
       "      <th>3</th>\n",
       "      <td>670454356</td>\n",
       "      <td>False</td>\n",
       "      <td>finalized</td>\n",
       "      <td>3</td>\n",
       "      <td>2/10/15 2:04</td>\n",
       "      <td>Chicago, Il</td>\n",
       "      <td>1.0</td>\n",
       "      <td>23-Feb-1899</td>\n",
       "      <td>1.0</td>\n",
       "      <td>White</td>\n",
       "      <td>...</td>\n",
       "      <td>Best Director</td>\n",
       "      <td>http://www.nndb.com/people/544/000041421/</td>\n",
       "      <td>NaN</td>\n",
       "      <td>NaN</td>\n",
       "      <td>Skippy</td>\n",
       "      <td>Norman Taurog</td>\n",
       "      <td>NaN</td>\n",
       "      <td>NaN</td>\n",
       "      <td>NaN</td>\n",
       "      <td>NaN</td>\n",
       "    </tr>\n",
       "    <tr>\n",
       "      <th>4</th>\n",
       "      <td>670454357</td>\n",
       "      <td>False</td>\n",
       "      <td>finalized</td>\n",
       "      <td>3</td>\n",
       "      <td>2/10/15 1:48</td>\n",
       "      <td>Salt Lake City, Ut</td>\n",
       "      <td>1.0</td>\n",
       "      <td>23-Apr-1894</td>\n",
       "      <td>1.0</td>\n",
       "      <td>White</td>\n",
       "      <td>...</td>\n",
       "      <td>Best Director</td>\n",
       "      <td>http://www.nndb.com/people/292/000044160/</td>\n",
       "      <td>NaN</td>\n",
       "      <td>NaN</td>\n",
       "      <td>Bad Girl</td>\n",
       "      <td>Frank Borzage</td>\n",
       "      <td>NaN</td>\n",
       "      <td>NaN</td>\n",
       "      <td>NaN</td>\n",
       "      <td>NaN</td>\n",
       "    </tr>\n",
       "  </tbody>\n",
       "</table>\n",
       "<p>5 rows × 27 columns</p>\n",
       "</div>"
      ],
      "text/plain": [
       "    _unit_id  _golden _unit_state  _trusted_judgments _last_judgment_at  \\\n",
       "0  670454353    False   finalized                   3      2/10/15 3:45   \n",
       "1  670454354    False   finalized                   3      2/10/15 2:03   \n",
       "2  670454355    False   finalized                   3      2/10/15 2:05   \n",
       "3  670454356    False   finalized                   3      2/10/15 2:04   \n",
       "4  670454357    False   finalized                   3      2/10/15 1:48   \n",
       "\n",
       "           birthplace  birthplace:confidence date_of_birth  \\\n",
       "0   Chisinau, Moldova                    1.0   30-Sep-1895   \n",
       "1   Glasgow, Scotland                    1.0    2-Feb-1886   \n",
       "2   Chisinau, Moldova                    1.0   30-Sep-1895   \n",
       "3         Chicago, Il                    1.0   23-Feb-1899   \n",
       "4  Salt Lake City, Ut                    1.0   23-Apr-1894   \n",
       "\n",
       "   date_of_birth:confidence race_ethnicity  ...          award  \\\n",
       "0                       1.0          White  ...  Best Director   \n",
       "1                       1.0          White  ...  Best Director   \n",
       "2                       1.0          White  ...  Best Director   \n",
       "3                       1.0          White  ...  Best Director   \n",
       "4                       1.0          White  ...  Best Director   \n",
       "\n",
       "                                      biourl  birthplace_gold  \\\n",
       "0  http://www.nndb.com/people/320/000043191/              NaN   \n",
       "1  http://www.nndb.com/people/626/000042500/              NaN   \n",
       "2  http://www.nndb.com/people/320/000043191/              NaN   \n",
       "3  http://www.nndb.com/people/544/000041421/              NaN   \n",
       "4  http://www.nndb.com/people/292/000044160/              NaN   \n",
       "\n",
       "  date_of_birth_gold                           movie           person  \\\n",
       "0                NaN             Two Arabian Knights  Lewis Milestone   \n",
       "1                NaN                 The Divine Lady      Frank Lloyd   \n",
       "2                NaN  All Quiet on the Western Front  Lewis Milestone   \n",
       "3                NaN                          Skippy    Norman Taurog   \n",
       "4                NaN                        Bad Girl    Frank Borzage   \n",
       "\n",
       "   race_ethnicity_gold religion_gold sexual_orientation_gold  \\\n",
       "0                  NaN           NaN                     NaN   \n",
       "1                  NaN           NaN                     NaN   \n",
       "2                  NaN           NaN                     NaN   \n",
       "3                  NaN           NaN                     NaN   \n",
       "4                  NaN           NaN                     NaN   \n",
       "\n",
       "  year_of_award_gold  \n",
       "0                NaN  \n",
       "1                NaN  \n",
       "2                NaN  \n",
       "3                NaN  \n",
       "4                NaN  \n",
       "\n",
       "[5 rows x 27 columns]"
      ]
     },
     "execution_count": 1,
     "metadata": {
     },
     "output_type": "execute_result"
    }
   ],
   "source": [
    "import pandas as pd\n",
    "import numpy as np\n",
    "import matplotlib as mlp\n",
    "import matplotlib.pyplot as plt\n",
    "\n",
    "# Use Pandas to import .csv\n",
    "Data = pd.read_csv(\"Oscars-demographics-DFE.csv\", encoding='ISO-8859-2')\n",
    "\n",
    "# Check Data\n",
    "Data.head()"
   ]
  },
  {
   "cell_type": "markdown",
   "metadata": {
    "collapsed": false
   },
   "source": [
    "As you can see based on the column headers, this dataset contains a significant amount of demographic information on past Oscar winners.\n",
    "\n",
    "This information is factual.\n",
    "\n",
    "We will see shortly that the data reflects the fact that certain demographics have been historically more likely to win an Oscar than others."
   ]
  },
  {
   "cell_type": "code",
   "execution_count": 2,
   "metadata": {
    "collapsed": false
   },
   "outputs": [
    {
     "data": {
      "text/plain": [
       "<matplotlib.axes._subplots.AxesSubplot at 0x7f0254f83e48>"
      ]
     },
     "execution_count": 2,
     "metadata": {
     },
     "output_type": "execute_result"
    },
    {
     "data": {
      "image/png": "[encoded data removed]",
      "text/plain": [
       "<Figure size 864x504 with 1 Axes>"
      ]
     },
     "execution_count": 2,
     "metadata": {
      "image/png": {
       "height": 476,
       "width": 710
      },
      "needs_background": "light"
     },
     "output_type": "execute_result"
    }
   ],
   "source": [
    "# Bar plot showing race representation in Oscar award winners\n",
    "Data[\"race_ethnicity\"].value_counts().plot(kind='bar')"
   ]
  },
  {
   "cell_type": "code",
   "execution_count": 3,
   "metadata": {
    "collapsed": false
   },
   "outputs": [
    {
     "data": {
      "text/plain": [
       "<matplotlib.axes._subplots.AxesSubplot at 0x7f0252373a20>"
      ]
     },
     "execution_count": 3,
     "metadata": {
     },
     "output_type": "execute_result"
    },
    {
     "data": {
      "image/png": "[encoded data removed]",
      "text/plain": [
       "<Figure size 864x504 with 1 Axes>"
      ]
     },
     "execution_count": 3,
     "metadata": {
      "image/png": {
       "height": 489,
       "width": 710
      },
      "needs_background": "light"
     },
     "output_type": "execute_result"
    }
   ],
   "source": [
    "# What about sexual orientation?\n",
    "Data[\"sexual_orientation\"].value_counts().plot(kind='bar')"
   ]
  },
  {
   "cell_type": "markdown",
   "metadata": {
    "collapsed": false
   },
   "source": [
    "It is obvious that the vast majority of the historical recipiants of Oscar awards have identified themselves as white and straight. This is an example of data that represents the reality of one very specific institution of the complex society that we live in: the Oscar Awards. Obtaining an Oscar is a very prestigious honor for actors/actresses and filmmakers, and is certainly a metric of success in their field.\n",
    "\n",
    "Now imagine that you are the casting director for a new film that is to be produced by a major studio. You have the budget to hire the best of the best, so that is what you aim to do.\n",
    "\n",
    "A statistical model could be trained on this dataset to extract features that are correlated with a high success rate, determined by obtaining an Oscar. You could then apply this model to your pool of potential candiadates, and the algorithm would output candidates whose demographic information matches most closely with demographics of those who have won an oscar.\n",
    "\n",
    "Since the original dataset lacks demographic diversity, it will induce bias on the models output and recommend majority straight white candidates, discarding others since the data is skewed so strongly to this demographic.\n",
    "\n",
    "In reality, and in responsible science, *correlation != causation*, and making hiring decisions based on historical data will reflect historical inclusions or exclusions."
   ]
  },
  {
   "cell_type": "markdown",
   "metadata": {
    "collapsed": false
   },
   "source": [
    "#### Managing Bias in Data\n",
    "Google researchers propose a method for [identifying and correcting bias in machine learning](https://arxiv.org/pdf/1901.04966v1.pdf). We will briefly explore the theory to better understand how bias occurs in data and one way that we can continue to harness the power of machine learning despite the inevidability of biased data.\n",
    "\n",
    "Main idea: A biased dataset can be perceived by the classifier to be unbiased, yet manipulated by a biased agent. The biased data is then re-weighted to fit the theoretical unbiased data and only then is fed to a machine learning algorithm as training data.\n",
    "\n",
    "Assumptions: Existence of underlying unbiased labels that are overwritten by agent who intends to provide accurate labels but may have unconscious bias against certain groups.\n",
    "\n",
    "Results: Showed training on re-weighted data corresponds to training on underlying unbiased labels, resulting in an unbiased classifier.\n",
    "\n",
    "Metrics to assess bias in algorithms:\n",
    "1. **Demographic parity**: Classifier should make positive predictions on a protected population group at the same rate as the entire population.\n",
    "2. **Disparate impact**: Same idea as demographic parity except classifier does not know which protected population groups exist and which data points relate to such protected groups.\n",
    "3. **Equal opportunity**: Classifier should have equal true positive rates on protected population group as those of the entire population.\n",
    "4. **Equalized odds**: Classifier should have both equal true positive and false positive rate on a protected population group as those of the entire population.\n",
    "Each metric exists as a positive number describing how close the algorithm is to \"full fairness\" (0)."
   ]
  },
  {
   "cell_type": "markdown",
   "metadata": {
    "collapsed": false
   },
   "source": [
    "The mathematical bias correction framework involves penalizing the impact of biased samples via [*Lagrange multipliers*]('https://en.wikipedia.org/wiki/Lagrange_multiplier'). The function receives some pre-determined \"fairness constants\" (ie: women should be hired at the same rate as men) as input and uses them to influence the loss in the training algorithm.\n",
    "\n",
    "Lagrage multipliers find local maximums and minimums of a function subject to the condition that one or more equations have to be satisfied exactly by the chosen values of the variables. This allows for optimization without explicit parameterization of contstraints, making it a great candidate to combat bias in data."
   ]
  },
  {
   "cell_type": "markdown",
   "metadata": {
    "collapsed": false
   },
   "source": [
    "Lagrangian function:\n",
    "$$ L(x,\\lambda) = f(x) + \\lambda g(x)$$"
   ]
  },
  {
   "cell_type": "markdown",
   "metadata": {
    "collapsed": false
   },
   "source": [
    "Google's Bias Correction Framework:\n",
    "$$ y_t(y|x)\\ \\alpha\\ y_b (y|x)\\ \\cdot exp\\ \\{ \\sum_{k=1}^{k} \\lambda_k c_k (x,y) \\}, for\\ some\\ \\lambda_1, ..., \\lambda_k\\ \\epsilon\\ \\R$$\n",
    "\n",
    "$$ \\boldsymbol{y_t}\\ is\\ the\\ theoretically\\ unbiased\\ dataset $$\n",
    "$$ \\boldsymbol{y_b} is\\ the\\ biased\\ dataset $$\n",
    "$$ \\boldsymbol{\\lambda_k}\\ are\\ the\\ learned\\ values\\ representing\\ the\\ connection\\ between\\ the\\ unbiased\\ and\\ biased\\ datasets.\\ These\\ values\\ are\\ used\\ by\\ the\\ optimizer\\ to\\ calculate\\ how\\ much\\ (or\\ how\\ little)\\ each\\ training\\ sample\\ should\\ be\\ weighted. $$\n",
    "\n",
    "The algorithm receives the weights and data as input and uses both to train the unbiased classifier."
   ]
  },
  {
   "cell_type": "markdown",
   "metadata": {
    "collapsed": false
   },
   "source": [
    "### Algorithms\n",
    "Any machine learning algorithm is suseptible to bias based on the data that it is trained on. In class, we discussed Support Vector Machines (SVM) and clustering algorithms, although there are many algorithms that can be applied to solve machine learning problems.\n",
    "\n",
    "Cathy O'Neil describes algorithms as catalysts of Widespread Mysterious Destruction (WMD) due to the prevelent belief that they are inherently objective, and the lack of understanding of how they arrive at their conclusions.\n",
    "\n",
    "Next, we will discuss several complex real-world situations where algorithmic bias influenced outcomes in a serious way. With these examples in mind, we will learn more about the ML project flow by working through related examples."
   ]
  },
  {
   "cell_type": "markdown",
   "metadata": {
    "collapsed": false
   },
   "source": [
    "#### Politics: Campaign Ad Spend\n",
    "\n",
    "Machine learning can present politically-charged propoganda to third parties without their explicit knowledge or consent. This example of algorithmic bias occured in the 2016 US presidential election. Russia paid for political ads pushing specific views on polarized topics to appear on Facebook. This situation was controversial because the techniques used by the interveining party were often subtle and deceptive.\n",
    "\n",
    "Audience-specific campaigns drive results. Therefore, it is essential that we are aware of how algorithms choose who to show what politically charged information.\n",
    "\n",
    "To demonstrate this idea on a smaller scale, we can apply Logistic Regression to open-source data that contains the total amount of money spent on an election campain and whether that candidate won their election or not. This will give us a better idea of how ad spend might (or might not) influence outcomes. We'll also familiarize ourselves with the machine learning pipeline along the way."
   ]
  },
  {
   "cell_type": "markdown",
   "metadata": {
    "collapsed": false
   },
   "source": [
    "[This dataset]('https://www.kaggle.com/danerbland/electionfinance') from Kaggle will provide the information we need."
   ]
  },
  {
   "cell_type": "code",
   "execution_count": 4,
   "metadata": {
    "collapsed": false,
    "scrolled": true
   },
   "outputs": [
    {
     "data": {
      "text/html": [
       "<div>\n",
       "<style scoped>\n",
       "    .dataframe tbody tr th:only-of-type {\n",
       "        vertical-align: middle;\n",
       "    }\n",
       "\n",
       "    .dataframe tbody tr th {\n",
       "        vertical-align: top;\n",
       "    }\n",
       "\n",
       "    .dataframe thead th {\n",
       "        text-align: right;\n",
       "    }\n",
       "</style>\n",
       "<table border=\"1\" class=\"dataframe\">\n",
       "  <thead>\n",
       "    <tr style=\"text-align: right;\">\n",
       "      <th></th>\n",
       "      <th>can_id</th>\n",
       "      <th>can_nam</th>\n",
       "      <th>can_off</th>\n",
       "      <th>can_off_sta</th>\n",
       "      <th>can_off_dis</th>\n",
       "      <th>can_par_aff</th>\n",
       "      <th>can_inc_cha_ope_sea</th>\n",
       "      <th>can_str1</th>\n",
       "      <th>can_str2</th>\n",
       "      <th>can_cit</th>\n",
       "      <th>...</th>\n",
       "      <th>cas_on_han_beg_of_per</th>\n",
       "      <th>cas_on_han_clo_of_per</th>\n",
       "      <th>net_con</th>\n",
       "      <th>net_ope_exp</th>\n",
       "      <th>deb_owe_by_com</th>\n",
       "      <th>deb_owe_to_com</th>\n",
       "      <th>cov_sta_dat</th>\n",
       "      <th>cov_end_dat</th>\n",
       "      <th>winner</th>\n",
       "      <th>votes</th>\n",
       "    </tr>\n",
       "  </thead>\n",
       "  <tbody>\n",
       "    <tr>\n",
       "      <th>0</th>\n",
       "      <td>H2GA12121</td>\n",
       "      <td>ALLEN, RICHARD W</td>\n",
       "      <td>H</td>\n",
       "      <td>GA</td>\n",
       "      <td>12.0</td>\n",
       "      <td>REP</td>\n",
       "      <td>INCUMBENT</td>\n",
       "      <td>2237 PICKENS RD</td>\n",
       "      <td>NaN</td>\n",
       "      <td>AUGUSTA</td>\n",
       "      <td>...</td>\n",
       "      <td>$60,109.57</td>\n",
       "      <td>$175,613.35</td>\n",
       "      <td>$1,074,949.50</td>\n",
       "      <td>$907,156.21</td>\n",
       "      <td>$1,125,000.00</td>\n",
       "      <td>NaN</td>\n",
       "      <td>1/1/2015</td>\n",
       "      <td>10/19/2016</td>\n",
       "      <td>Y</td>\n",
       "      <td>158708.0</td>\n",
       "    </tr>\n",
       "    <tr>\n",
       "      <th>1</th>\n",
       "      <td>H6PA02171</td>\n",
       "      <td>EVANS, DWIGHT</td>\n",
       "      <td>H</td>\n",
       "      <td>PA</td>\n",
       "      <td>2.0</td>\n",
       "      <td>DEM</td>\n",
       "      <td>CHALLENGER</td>\n",
       "      <td>PO BOX 6578</td>\n",
       "      <td>NaN</td>\n",
       "      <td>PHILADELPHIA</td>\n",
       "      <td>...</td>\n",
       "      <td>NaN</td>\n",
       "      <td>$105,687.23</td>\n",
       "      <td>$1,406,719.06</td>\n",
       "      <td>$1,298,831.83</td>\n",
       "      <td>NaN</td>\n",
       "      <td>NaN</td>\n",
       "      <td>11/2/2015</td>\n",
       "      <td>10/19/2016</td>\n",
       "      <td>Y</td>\n",
       "      <td>310770.0</td>\n",
       "    </tr>\n",
       "    <tr>\n",
       "      <th>2</th>\n",
       "      <td>H6FL04105</td>\n",
       "      <td>RUTHERFORD, JOHN</td>\n",
       "      <td>H</td>\n",
       "      <td>FL</td>\n",
       "      <td>4.0</td>\n",
       "      <td>REP</td>\n",
       "      <td>OPEN</td>\n",
       "      <td>3817 VICKERS LAKE DRIVE</td>\n",
       "      <td>NaN</td>\n",
       "      <td>JACKSONVILLE</td>\n",
       "      <td>...</td>\n",
       "      <td>NaN</td>\n",
       "      <td>$35,645.09</td>\n",
       "      <td>$650,855.38</td>\n",
       "      <td>$656,210.29</td>\n",
       "      <td>$60,000.00</td>\n",
       "      <td>NaN</td>\n",
       "      <td>4/1/2016</td>\n",
       "      <td>10/19/2016</td>\n",
       "      <td>Y</td>\n",
       "      <td>286018.0</td>\n",
       "    </tr>\n",
       "    <tr>\n",
       "      <th>3</th>\n",
       "      <td>H4MT01041</td>\n",
       "      <td>ZINKE, RYAN K</td>\n",
       "      <td>H</td>\n",
       "      <td>MT</td>\n",
       "      <td>0.0</td>\n",
       "      <td>REP</td>\n",
       "      <td>INCUMBENT</td>\n",
       "      <td>409 2ND ST W</td>\n",
       "      <td>NaN</td>\n",
       "      <td>WHITEFISH</td>\n",
       "      <td>...</td>\n",
       "      <td>$83,815.78</td>\n",
       "      <td>$399,122.61</td>\n",
       "      <td>$4,938,943.74</td>\n",
       "      <td>$5,055,942.15</td>\n",
       "      <td>NaN</td>\n",
       "      <td>NaN</td>\n",
       "      <td>1/1/2015</td>\n",
       "      <td>10/19/2016</td>\n",
       "      <td>Y</td>\n",
       "      <td>280476.0</td>\n",
       "    </tr>\n",
       "    <tr>\n",
       "      <th>4</th>\n",
       "      <td>H8CA09060</td>\n",
       "      <td>LEE, BARBARA</td>\n",
       "      <td>H</td>\n",
       "      <td>CA</td>\n",
       "      <td>13.0</td>\n",
       "      <td>DEM</td>\n",
       "      <td>INCUMBENT</td>\n",
       "      <td>409 13TH ST, 17TH FL</td>\n",
       "      <td>NaN</td>\n",
       "      <td>OAKLAND</td>\n",
       "      <td>...</td>\n",
       "      <td>$83,690.60</td>\n",
       "      <td>$181,338.23</td>\n",
       "      <td>$1,197,676.61</td>\n",
       "      <td>$949,488.98</td>\n",
       "      <td>$4,401.75</td>\n",
       "      <td>NaN</td>\n",
       "      <td>1/1/2015</td>\n",
       "      <td>10/19/2016</td>\n",
       "      <td>Y</td>\n",
       "      <td>277390.0</td>\n",
       "    </tr>\n",
       "    <tr>\n",
       "      <th>...</th>\n",
       "      <td>...</td>\n",
       "      <td>...</td>\n",
       "      <td>...</td>\n",
       "      <td>...</td>\n",
       "      <td>...</td>\n",
       "      <td>...</td>\n",
       "      <td>...</td>\n",
       "      <td>...</td>\n",
       "      <td>...</td>\n",
       "      <td>...</td>\n",
       "      <td>...</td>\n",
       "      <td>...</td>\n",
       "      <td>...</td>\n",
       "      <td>...</td>\n",
       "      <td>...</td>\n",
       "      <td>...</td>\n",
       "      <td>...</td>\n",
       "      <td>...</td>\n",
       "      <td>...</td>\n",
       "      <td>...</td>\n",
       "      <td>...</td>\n",
       "    </tr>\n",
       "    <tr>\n",
       "      <th>1809</th>\n",
       "      <td>P60005931</td>\n",
       "      <td>BUTTOCKS, SYDNEYS VOLUPTOUS</td>\n",
       "      <td>P</td>\n",
       "      <td>US</td>\n",
       "      <td>0.0</td>\n",
       "      <td>IND</td>\n",
       "      <td>OPEN</td>\n",
       "      <td>143 HIGHLAND AVENUE</td>\n",
       "      <td>NaN</td>\n",
       "      <td>BUFFALO</td>\n",
       "      <td>...</td>\n",
       "      <td>$5,000.00</td>\n",
       "      <td>$5,000.00</td>\n",
       "      <td>NaN</td>\n",
       "      <td>NaN</td>\n",
       "      <td>NaN</td>\n",
       "      <td>NaN</td>\n",
       "      <td>3/3/2015</td>\n",
       "      <td>3/31/2015</td>\n",
       "      <td>NaN</td>\n",
       "      <td>NaN</td>\n",
       "    </tr>\n",
       "    <tr>\n",
       "      <th>1810</th>\n",
       "      <td>S6CA00568</td>\n",
       "      <td>MOLNAR, ROBERT</td>\n",
       "      <td>S</td>\n",
       "      <td>CA</td>\n",
       "      <td>0.0</td>\n",
       "      <td>REP</td>\n",
       "      <td>OPEN</td>\n",
       "      <td>PO BOX 321231</td>\n",
       "      <td>NaN</td>\n",
       "      <td>LOS GATOS</td>\n",
       "      <td>...</td>\n",
       "      <td>$1,000.00</td>\n",
       "      <td>NaN</td>\n",
       "      <td>$1,000.00</td>\n",
       "      <td>$1,000.00</td>\n",
       "      <td>NaN</td>\n",
       "      <td>NaN</td>\n",
       "      <td>1/1/2015</td>\n",
       "      <td>3/31/2015</td>\n",
       "      <td>NaN</td>\n",
       "      <td>NaN</td>\n",
       "    </tr>\n",
       "    <tr>\n",
       "      <th>1811</th>\n",
       "      <td>S6MD03524</td>\n",
       "      <td>HOLMES, GREGORY</td>\n",
       "      <td>S</td>\n",
       "      <td>MD</td>\n",
       "      <td>0.0</td>\n",
       "      <td>REP</td>\n",
       "      <td>OPEN</td>\n",
       "      <td>13601 MACDERNUT CT</td>\n",
       "      <td>NaN</td>\n",
       "      <td>UPPER MARLBORO</td>\n",
       "      <td>...</td>\n",
       "      <td>NaN</td>\n",
       "      <td>NaN</td>\n",
       "      <td>NaN</td>\n",
       "      <td>NaN</td>\n",
       "      <td>NaN</td>\n",
       "      <td>NaN</td>\n",
       "      <td>8/29/2017</td>\n",
       "      <td>2/1/2015</td>\n",
       "      <td>NaN</td>\n",
       "      <td>NaN</td>\n",
       "    </tr>\n",
       "    <tr>\n",
       "      <th>1812</th>\n",
       "      <td>H6AS00031</td>\n",
       "      <td>HUNKIN-FINAU, VAITINASA SALU</td>\n",
       "      <td>H</td>\n",
       "      <td>AS</td>\n",
       "      <td>NaN</td>\n",
       "      <td>DEM</td>\n",
       "      <td>NaN</td>\n",
       "      <td>PO BOX 252 VAILOAUTA</td>\n",
       "      <td>NaN</td>\n",
       "      <td>PAGO PAGO</td>\n",
       "      <td>...</td>\n",
       "      <td>$1,058.44</td>\n",
       "      <td>$4,561.00</td>\n",
       "      <td>$41,670.00</td>\n",
       "      <td>$38,167.44</td>\n",
       "      <td>NaN</td>\n",
       "      <td>NaN</td>\n",
       "      <td>7/1/2016</td>\n",
       "      <td>10/19/2016</td>\n",
       "      <td>NaN</td>\n",
       "      <td>NaN</td>\n",
       "    </tr>\n",
       "    <tr>\n",
       "      <th>1813</th>\n",
       "      <td>H6AK00235</td>\n",
       "      <td>LINDBECK, STEVE</td>\n",
       "      <td>H</td>\n",
       "      <td>AK</td>\n",
       "      <td>NaN</td>\n",
       "      <td>DEM</td>\n",
       "      <td>NaN</td>\n",
       "      <td>PO BOX 90025</td>\n",
       "      <td>NaN</td>\n",
       "      <td>ANCHORAGE</td>\n",
       "      <td>...</td>\n",
       "      <td>NaN</td>\n",
       "      <td>$64,115.92</td>\n",
       "      <td>$876,316.81</td>\n",
       "      <td>$792,150.89</td>\n",
       "      <td>$13,979.83</td>\n",
       "      <td>NaN</td>\n",
       "      <td>4/1/2016</td>\n",
       "      <td>10/19/2016</td>\n",
       "      <td>NaN</td>\n",
       "      <td>NaN</td>\n",
       "    </tr>\n",
       "  </tbody>\n",
       "</table>\n",
       "<p>1814 rows × 51 columns</p>\n",
       "</div>"
      ],
      "text/plain": [
       "         can_id                       can_nam can_off can_off_sta  \\\n",
       "0     H2GA12121              ALLEN, RICHARD W       H          GA   \n",
       "1     H6PA02171                 EVANS, DWIGHT       H          PA   \n",
       "2     H6FL04105              RUTHERFORD, JOHN       H          FL   \n",
       "3     H4MT01041                 ZINKE, RYAN K       H          MT   \n",
       "4     H8CA09060                  LEE, BARBARA       H          CA   \n",
       "...         ...                           ...     ...         ...   \n",
       "1809  P60005931   BUTTOCKS, SYDNEYS VOLUPTOUS       P          US   \n",
       "1810  S6CA00568                MOLNAR, ROBERT       S          CA   \n",
       "1811  S6MD03524               HOLMES, GREGORY       S          MD   \n",
       "1812  H6AS00031  HUNKIN-FINAU, VAITINASA SALU       H          AS   \n",
       "1813  H6AK00235               LINDBECK, STEVE       H          AK   \n",
       "\n",
       "      can_off_dis can_par_aff can_inc_cha_ope_sea                 can_str1  \\\n",
       "0            12.0         REP           INCUMBENT          2237 PICKENS RD   \n",
       "1             2.0         DEM          CHALLENGER              PO BOX 6578   \n",
       "2             4.0         REP                OPEN  3817 VICKERS LAKE DRIVE   \n",
       "3             0.0         REP           INCUMBENT             409 2ND ST W   \n",
       "4            13.0         DEM           INCUMBENT     409 13TH ST, 17TH FL   \n",
       "...           ...         ...                 ...                      ...   \n",
       "1809          0.0         IND                OPEN      143 HIGHLAND AVENUE   \n",
       "1810          0.0         REP                OPEN            PO BOX 321231   \n",
       "1811          0.0         REP                OPEN       13601 MACDERNUT CT   \n",
       "1812          NaN         DEM                 NaN     PO BOX 252 VAILOAUTA   \n",
       "1813          NaN         DEM                 NaN             PO BOX 90025   \n",
       "\n",
       "     can_str2         can_cit  ... cas_on_han_beg_of_per  \\\n",
       "0         NaN         AUGUSTA  ...           $60,109.57    \n",
       "1         NaN    PHILADELPHIA  ...                   NaN   \n",
       "2         NaN    JACKSONVILLE  ...                   NaN   \n",
       "3         NaN       WHITEFISH  ...           $83,815.78    \n",
       "4         NaN         OAKLAND  ...           $83,690.60    \n",
       "...       ...             ...  ...                   ...   \n",
       "1809      NaN         BUFFALO  ...            $5,000.00    \n",
       "1810      NaN       LOS GATOS  ...            $1,000.00    \n",
       "1811      NaN  UPPER MARLBORO  ...                   NaN   \n",
       "1812      NaN       PAGO PAGO  ...            $1,058.44    \n",
       "1813      NaN       ANCHORAGE  ...                   NaN   \n",
       "\n",
       "      cas_on_han_clo_of_per         net_con     net_ope_exp  deb_owe_by_com  \\\n",
       "0              $175,613.35   $1,074,949.50     $907,156.21   $1,125,000.00    \n",
       "1              $105,687.23   $1,406,719.06   $1,298,831.83              NaN   \n",
       "2               $35,645.09     $650,855.38     $656,210.29      $60,000.00    \n",
       "3              $399,122.61   $4,938,943.74   $5,055,942.15              NaN   \n",
       "4              $181,338.23   $1,197,676.61     $949,488.98       $4,401.75    \n",
       "...                     ...             ...             ...             ...   \n",
       "1809             $5,000.00              NaN             NaN             NaN   \n",
       "1810                    NaN      $1,000.00       $1,000.00              NaN   \n",
       "1811                    NaN             NaN             NaN             NaN   \n",
       "1812             $4,561.00      $41,670.00      $38,167.44              NaN   \n",
       "1813            $64,115.92     $876,316.81     $792,150.89      $13,979.83    \n",
       "\n",
       "     deb_owe_to_com cov_sta_dat cov_end_dat winner     votes  \n",
       "0               NaN    1/1/2015  10/19/2016      Y  158708.0  \n",
       "1               NaN   11/2/2015  10/19/2016      Y  310770.0  \n",
       "2               NaN    4/1/2016  10/19/2016      Y  286018.0  \n",
       "3               NaN    1/1/2015  10/19/2016      Y  280476.0  \n",
       "4               NaN    1/1/2015  10/19/2016      Y  277390.0  \n",
       "...             ...         ...         ...    ...       ...  \n",
       "1809            NaN    3/3/2015   3/31/2015    NaN       NaN  \n",
       "1810            NaN    1/1/2015   3/31/2015    NaN       NaN  \n",
       "1811            NaN   8/29/2017    2/1/2015    NaN       NaN  \n",
       "1812            NaN    7/1/2016  10/19/2016    NaN       NaN  \n",
       "1813            NaN    4/1/2016  10/19/2016    NaN       NaN  \n",
       "\n",
       "[1814 rows x 51 columns]"
      ]
     },
     "execution_count": 4,
     "metadata": {
     },
     "output_type": "execute_result"
    }
   ],
   "source": [
    "# Import data\n",
    "Election_df = pd.read_csv('CandidateSummaryAction1.csv')\n",
    "Election_df"
   ]
  },
  {
   "cell_type": "code",
   "execution_count": 5,
   "metadata": {
    "collapsed": false,
    "scrolled": true
   },
   "outputs": [
    {
     "data": {
      "text/html": [
       "<div>\n",
       "<style scoped>\n",
       "    .dataframe tbody tr th:only-of-type {\n",
       "        vertical-align: middle;\n",
       "    }\n",
       "\n",
       "    .dataframe tbody tr th {\n",
       "        vertical-align: top;\n",
       "    }\n",
       "\n",
       "    .dataframe thead th {\n",
       "        text-align: right;\n",
       "    }\n",
       "</style>\n",
       "<table border=\"1\" class=\"dataframe\">\n",
       "  <thead>\n",
       "    <tr style=\"text-align: right;\">\n",
       "      <th></th>\n",
       "      <th>net_con</th>\n",
       "      <th>winner</th>\n",
       "    </tr>\n",
       "  </thead>\n",
       "  <tbody>\n",
       "    <tr>\n",
       "      <th>0</th>\n",
       "      <td>$1,074,949.50</td>\n",
       "      <td>Y</td>\n",
       "    </tr>\n",
       "    <tr>\n",
       "      <th>1</th>\n",
       "      <td>$1,406,719.06</td>\n",
       "      <td>Y</td>\n",
       "    </tr>\n",
       "    <tr>\n",
       "      <th>2</th>\n",
       "      <td>$650,855.38</td>\n",
       "      <td>Y</td>\n",
       "    </tr>\n",
       "    <tr>\n",
       "      <th>3</th>\n",
       "      <td>$4,938,943.74</td>\n",
       "      <td>Y</td>\n",
       "    </tr>\n",
       "    <tr>\n",
       "      <th>4</th>\n",
       "      <td>$1,197,676.61</td>\n",
       "      <td>Y</td>\n",
       "    </tr>\n",
       "    <tr>\n",
       "      <th>...</th>\n",
       "      <td>...</td>\n",
       "      <td>...</td>\n",
       "    </tr>\n",
       "    <tr>\n",
       "      <th>1809</th>\n",
       "      <td>NaN</td>\n",
       "      <td>NaN</td>\n",
       "    </tr>\n",
       "    <tr>\n",
       "      <th>1810</th>\n",
       "      <td>$1,000.00</td>\n",
       "      <td>NaN</td>\n",
       "    </tr>\n",
       "    <tr>\n",
       "      <th>1811</th>\n",
       "      <td>NaN</td>\n",
       "      <td>NaN</td>\n",
       "    </tr>\n",
       "    <tr>\n",
       "      <th>1812</th>\n",
       "      <td>$41,670.00</td>\n",
       "      <td>NaN</td>\n",
       "    </tr>\n",
       "    <tr>\n",
       "      <th>1813</th>\n",
       "      <td>$876,316.81</td>\n",
       "      <td>NaN</td>\n",
       "    </tr>\n",
       "  </tbody>\n",
       "</table>\n",
       "<p>1814 rows × 2 columns</p>\n",
       "</div>"
      ],
      "text/plain": [
       "             net_con winner\n",
       "0     $1,074,949.50       Y\n",
       "1     $1,406,719.06       Y\n",
       "2       $650,855.38       Y\n",
       "3     $4,938,943.74       Y\n",
       "4     $1,197,676.61       Y\n",
       "...              ...    ...\n",
       "1809             NaN    NaN\n",
       "1810      $1,000.00     NaN\n",
       "1811             NaN    NaN\n",
       "1812     $41,670.00     NaN\n",
       "1813    $876,316.81     NaN\n",
       "\n",
       "[1814 rows x 2 columns]"
      ]
     },
     "execution_count": 5,
     "metadata": {
     },
     "output_type": "execute_result"
    }
   ],
   "source": [
    "# Keep only the candidate's name, total amount spent campaigining, and election result\n",
    "Election_df1 = Election_df[['net_con','winner']]\n",
    "Election_df1"
   ]
  },
  {
   "cell_type": "code",
   "execution_count": 6,
   "metadata": {
    "collapsed": false,
    "scrolled": true
   },
   "outputs": [
    {
     "data": {
      "text/html": [
       "<div>\n",
       "<style scoped>\n",
       "    .dataframe tbody tr th:only-of-type {\n",
       "        vertical-align: middle;\n",
       "    }\n",
       "\n",
       "    .dataframe tbody tr th {\n",
       "        vertical-align: top;\n",
       "    }\n",
       "\n",
       "    .dataframe thead th {\n",
       "        text-align: right;\n",
       "    }\n",
       "</style>\n",
       "<table border=\"1\" class=\"dataframe\">\n",
       "  <thead>\n",
       "    <tr style=\"text-align: right;\">\n",
       "      <th></th>\n",
       "      <th>net_con</th>\n",
       "      <th>winner</th>\n",
       "    </tr>\n",
       "  </thead>\n",
       "  <tbody>\n",
       "    <tr>\n",
       "      <th>0</th>\n",
       "      <td>1.074950e+06</td>\n",
       "      <td>1.0</td>\n",
       "    </tr>\n",
       "    <tr>\n",
       "      <th>1</th>\n",
       "      <td>1.406719e+06</td>\n",
       "      <td>1.0</td>\n",
       "    </tr>\n",
       "    <tr>\n",
       "      <th>2</th>\n",
       "      <td>6.508554e+05</td>\n",
       "      <td>1.0</td>\n",
       "    </tr>\n",
       "    <tr>\n",
       "      <th>3</th>\n",
       "      <td>4.938944e+06</td>\n",
       "      <td>1.0</td>\n",
       "    </tr>\n",
       "    <tr>\n",
       "      <th>4</th>\n",
       "      <td>1.197677e+06</td>\n",
       "      <td>1.0</td>\n",
       "    </tr>\n",
       "    <tr>\n",
       "      <th>...</th>\n",
       "      <td>...</td>\n",
       "      <td>...</td>\n",
       "    </tr>\n",
       "    <tr>\n",
       "      <th>1800</th>\n",
       "      <td>1.408580e+05</td>\n",
       "      <td>0.0</td>\n",
       "    </tr>\n",
       "    <tr>\n",
       "      <th>1803</th>\n",
       "      <td>2.502500e+04</td>\n",
       "      <td>0.0</td>\n",
       "    </tr>\n",
       "    <tr>\n",
       "      <th>1810</th>\n",
       "      <td>1.000000e+03</td>\n",
       "      <td>0.0</td>\n",
       "    </tr>\n",
       "    <tr>\n",
       "      <th>1812</th>\n",
       "      <td>4.167000e+04</td>\n",
       "      <td>0.0</td>\n",
       "    </tr>\n",
       "    <tr>\n",
       "      <th>1813</th>\n",
       "      <td>8.763168e+05</td>\n",
       "      <td>0.0</td>\n",
       "    </tr>\n",
       "  </tbody>\n",
       "</table>\n",
       "<p>1643 rows × 2 columns</p>\n",
       "</div>"
      ],
      "text/plain": [
       "           net_con  winner\n",
       "0     1.074950e+06     1.0\n",
       "1     1.406719e+06     1.0\n",
       "2     6.508554e+05     1.0\n",
       "3     4.938944e+06     1.0\n",
       "4     1.197677e+06     1.0\n",
       "...            ...     ...\n",
       "1800  1.408580e+05     0.0\n",
       "1803  2.502500e+04     0.0\n",
       "1810  1.000000e+03     0.0\n",
       "1812  4.167000e+04     0.0\n",
       "1813  8.763168e+05     0.0\n",
       "\n",
       "[1643 rows x 2 columns]"
      ]
     },
     "execution_count": 6,
     "metadata": {
     },
     "output_type": "execute_result"
    }
   ],
   "source": [
    "# Preprocessing\n",
    "\n",
    "# Replace binary Y/N to 1/0\n",
    "# Column 'winners' contains 'Y' for winning campaigns and \"\" for losing campaigns. (From Kaggle Data page)\n",
    "Election_df1 = Election_df1.replace('Y',1)\n",
    "Election_df1['winner'] = Election_df1['winner'].fillna(0)\n",
    "\n",
    "# Strip '$',',','(',')' and drop Null values\n",
    "Election_df1 = Election_df1.replace({'\\$': '', ',':'',}, regex=True)\n",
    "Election_df1 = Election_df1.dropna()\n",
    "Election_df1['net_con'] = Election_df1['net_con'].str.replace('(','-').str.replace(')','').astype('float32')\n",
    "\n",
    "Election_df1"
   ]
  },
  {
   "cell_type": "code",
   "execution_count": 7,
   "metadata": {
    "collapsed": false
   },
   "outputs": [
   ],
   "source": [
    "# Partition Data\n",
    "from sklearn.model_selection import train_test_split\n",
    "\n",
    "def partition_data(data, train_percentage, feature_headers, target_header):\n",
    "\n",
    "    # Split dataset into train and test\n",
    "    train_x, test_x, train_y, test_y = train_test_split(data[feature_headers], data[target_header], train_size=train_percentage)\n",
    "\n",
    "    return train_x, test_x, train_y, test_y"
   ]
  },
  {
   "cell_type": "code",
   "execution_count": 8,
   "metadata": {
    "collapsed": false
   },
   "outputs": [
    {
     "name": "stdout",
     "output_type": "stream",
     "text": [
      "Train_x Shape:  (1150, 1)\n",
      "Train_y Shape:  (1150,)\n",
      "Test_x Shape:  (493, 1)\n",
      "Test_y Shape:  (493,)\n"
     ]
    }
   ],
   "source": [
    "# Set values for partition\n",
    "target_header = 'winner'\n",
    "feature_headers = list(set(Election_df1.columns)-set([target_header]))\n",
    "\n",
    "X = Election_df1.loc[:,Election_df1.columns != 'winner']\n",
    "y = Election_df1.winner\n",
    "\n",
    "train_x,test_x,train_y,test_y = partition_data(Election_df1,0.7,feature_headers,target_header)\n",
    "print(\"Train_x Shape: \", train_x.shape)\n",
    "print(\"Train_y Shape: \", train_y.shape)\n",
    "print(\"Test_x Shape: \", test_x.shape)\n",
    "print(\"Test_y Shape: \", test_y.shape)"
   ]
  },
  {
   "cell_type": "code",
   "execution_count": 9,
   "metadata": {
    "collapsed": false
   },
   "outputs": [
    {
     "data": {
      "text/plain": [
       "0       1.0\n",
       "1       1.0\n",
       "2       1.0\n",
       "3       1.0\n",
       "4       1.0\n",
       "       ... \n",
       "1800    0.0\n",
       "1803    0.0\n",
       "1810    0.0\n",
       "1812    0.0\n",
       "1813    0.0\n",
       "Name: winner, Length: 1643, dtype: float64"
      ]
     },
     "execution_count": 9,
     "metadata": {
     },
     "output_type": "execute_result"
    }
   ],
   "source": [
    "Election_df1['winner']"
   ]
  },
  {
   "cell_type": "markdown",
   "metadata": {
    "collapsed": false
   },
   "source": [
    "[*Logistic Regression*]('https://en.wikipedia.org/wiki/Logistic_regression') is a machine learning algorithm supported within the scikit-learn framework that uses a logistic function to model a binary dependent variable (in this case, win or lose depending on amount of $ spent campaigining.)"
   ]
  },
  {
   "cell_type": "code",
   "execution_count": 10,
   "metadata": {
    "collapsed": false
   },
   "outputs": [
    {
     "data": {
      "text/plain": [
       "LogisticRegression(C=1.0, class_weight=None, dual=False, fit_intercept=True,\n",
       "                   intercept_scaling=1, l1_ratio=None, max_iter=100,\n",
       "                   multi_class='auto', n_jobs=None, penalty='l2',\n",
       "                   random_state=None, solver='lbfgs', tol=0.0001, verbose=0,\n",
       "                   warm_start=False)"
      ]
     },
     "execution_count": 10,
     "metadata": {
     },
     "output_type": "execute_result"
    }
   ],
   "source": [
    "# Apply to algorithm: Logistic Regression\n",
    "from sklearn.linear_model import LogisticRegression\n",
    "from sklearn import metrics\n",
    "\n",
    "logreg = LogisticRegression()\n",
    "logreg.fit(train_x,train_y)"
   ]
  },
  {
   "cell_type": "code",
   "execution_count": 11,
   "metadata": {
    "collapsed": false
   },
   "outputs": [
    {
     "name": "stdout",
     "output_type": "stream",
     "text": [
      "              precision    recall  f1-score   support\n",
      "\n",
      "         0.0       0.73      0.99      0.84       359\n",
      "         1.0       0.00      0.00      0.00       134\n",
      "\n",
      "    accuracy                           0.72       493\n",
      "   macro avg       0.36      0.50      0.42       493\n",
      "weighted avg       0.53      0.72      0.61       493\n",
      "\n"
     ]
    }
   ],
   "source": [
    "# View classification results\n",
    "from sklearn.metrics import classification_report\n",
    "pred_y = logreg.predict(test_x)\n",
    "print(classification_report(test_y, pred_y))"
   ]
  },
  {
   "cell_type": "markdown",
   "metadata": {
    "collapsed": false
   },
   "source": [
    "Our linear classifier was able to correctly predict outcome based on expenditure ~74% of the time. We can infer that there is *some* correlation between expenditure and outcome, but there are certainly other factors at play here.\n",
    "\n",
    "Election campaigns expenditure can be subtle with profound implications on outcome (such as Russia's interference in the 2016 election), or they may be variable (like we just saw from Kaggle's regional election data).\n",
    "\n",
    "The reality is there are many factors to an election that contribute to whether or not a candidate gets elected.\n",
    "\n",
    "Subtle intervention by a foreign party to influence decisions is an example of algorithmic bias through political manipulation. To see if domestic campain expenditure is directly correlated with outcome, we went through a standard machine learning pipeline (preprocess/partition/fit/analysis) using linear regression on Kaggle data.\n",
    "\n",
    "Considering the results we obtained in analysis, the linear classifier did a decent job on the test data when it was tasked with determining a candidates outcome from net expenditure."
   ]
  },
  {
   "cell_type": "markdown",
   "metadata": {
    "collapsed": false
   },
   "source": [
    "#### Gender Bias in Neural Machine Translation\n",
    "\n",
    "In this example of real-world algorithmic bias, machine translation algorithms are suseptible to unintentionally providing sexist translations. For example, common nouns representing professions (doctor, teacher, nurse, engineer) may be attributed a gender. Specifically, when translating from English to another language, gender neutral words are assigned male pronouns at a higher frequency than female pronouns - *unless* the noun in question is associated with a normative female-gender stereotype.\n",
    "\n",
    "How does this happen? Gender bias gets encoded in *word embeddings* (projection of words to vectors of real numbers), and like other examples of algorithmic bias we have seen, the bias is traced to the training data.\n",
    "\n",
    "Bolukbasi et. al describe the technical process of bias in word embeddings in their paper [Man is to Computer Programmer as Woman is to Homemaker? Debiasing Word Embeddings]('https://arxiv.org/pdf/1607.06520.pdf'). In the example that follows, we will examine gender bias in [GloVe: Global Vectors for Word Representation]('https://www.kaggle.com/rtatman/glove-global-vectors-for-word-representation'), a Kaggle collection of pre-trained word vectors."
   ]
  },
  {
   "cell_type": "code",
   "execution_count": 12,
   "metadata": {
    "collapsed": false
   },
   "outputs": [
   ],
   "source": [
    "# Import data\n",
    "embeddings_dict = {}\n",
    "with open(\"glove.6B.50d.txt\",'r',encoding=\"utf-8\") as f:\n",
    "    for line in f:\n",
    "        values = line.split()\n",
    "        word = values[0]\n",
    "        vector = np.asarray(values[1:],\"float32\")\n",
    "        embeddings_dict[word] = vector"
   ]
  },
  {
   "cell_type": "code",
   "execution_count": 13,
   "metadata": {
    "collapsed": false
   },
   "outputs": [
   ],
   "source": [
    "# Define tuples of gendered occupations based on those defined in Bulukbasi et. al.\n",
    "male_occupations = (\"maestro\",\"skipper\",\"protege\",\"philosopher\",\"architect\", \"financier\", \"warrior\", \"broadcaster\", \"magician\", \"pilot\", \"boss\")\n",
    "female_occupations = (\"homemaker\", \"nurse\", \"receptionist\", \"librarian\", \"socialite\",\n",
    "\"hairdresser\", \"nanny\", \"bookkeeper\", \"stylist\", \"housekeeper\", \"designer\", \"counselor\")"
   ]
  },
  {
   "cell_type": "code",
   "execution_count": 14,
   "metadata": {
    "collapsed": false
   },
   "outputs": [
   ],
   "source": [
    "# Isolate \"he\" and \"she\" vectors\n",
    "he = embeddings_dict['he']\n",
    "she = embeddings_dict['she']"
   ]
  },
  {
   "cell_type": "markdown",
   "metadata": {
    "collapsed": false
   },
   "source": [
    "We want to devise a way to compute the similarity function between a given word and a word embeddings contained in GloVe.\n",
    "\n",
    "'find_closest_embeddings'\n",
    "- *sorted* takes an iterable and sorts it using 'embeddings_dict.keys()', all possible words that we want to sort.\n",
    "- Python would sort this list alphabetically. It is necessary to specify a 'key' to sort the list in a specific way. For this, we use a lambda function that takes a word as input and returns the euclidean distance (via scipy's function) between that word's embeddding and the given embedding.\n",
    "- Output is the rank of all words by closeness to the given word."
   ]
  },
  {
   "cell_type": "code",
   "execution_count": 15,
   "metadata": {
    "collapsed": false
   },
   "outputs": [
   ],
   "source": [
    "# Compute word embedding similarity\n",
    "from scipy import spatial\n",
    "\n",
    "def find_closest_embeddings(embedding):\n",
    "    return sorted(embeddings_dict.keys(), key=lambda word: spatial.distance.euclidean(embeddings_dict[word], embedding))"
   ]
  },
  {
   "cell_type": "code",
   "execution_count": 16,
   "metadata": {
    "collapsed": false
   },
   "outputs": [
    {
     "data": {
      "text/plain": [
       "['boss',\n",
       " 'bosses',\n",
       " 'manager',\n",
       " 'admits',\n",
       " 'ferguson',\n",
       " 'mourinho',\n",
       " 'quits',\n",
       " 'tony',\n",
       " 'keegan',\n",
       " \"o'neill\"]"
      ]
     },
     "execution_count": 16,
     "metadata": {
     },
     "output_type": "execute_result"
    }
   ],
   "source": [
    "# Now lets test out our function with some of the supposedly gender-biased occupations above\n",
    "\n",
    "# Occupation: boss\n",
    "find_closest_embeddings(embeddings_dict[male_occupations[-1]])[:10]"
   ]
  },
  {
   "cell_type": "code",
   "execution_count": 17,
   "metadata": {
    "collapsed": false
   },
   "outputs": [
    {
     "data": {
      "text/plain": [
       "['homemaker',\n",
       " 'schoolteacher',\n",
       " 'housewife',\n",
       " 'hairdresser',\n",
       " 'waitress',\n",
       " '42-year',\n",
       " '49-year',\n",
       " 'pensioner',\n",
       " 'seamstress',\n",
       " 'businesswoman']"
      ]
     },
     "execution_count": 17,
     "metadata": {
     },
     "output_type": "execute_result"
    }
   ],
   "source": [
    "# Occupation: homemaker\n",
    "find_closest_embeddings(embeddings_dict[female_occupations[0]])[:10]"
   ]
  },
  {
   "cell_type": "markdown",
   "metadata": {
    "collapsed": false
   },
   "source": [
    "Try out our 'find_closest_embeddings' function with other words to see what implicit associations the model has extracted from its training data. From these two examples, we can see that the model associates 'boss' with generic male names such as 'ferguson', 'tony', and 'keegan', while the occupation homemaker returns female gendered associations such as 'housewife', 'seamstress', and 'businesswoman'.\n",
    "\n",
    "Normative, socially-constructed gender roles are quickly learned by Machine Translation software and propagated in its results. In this example, we looked at the associative similarity between two words in English. The same pre-trained vectors that we worked with within the constraints of our language are used in different ways to translate between English and virtually any other language, so long as training data is avaliable. This means that it is essential to study our data and understand the associations learned by the algorithms we deploy."
   ]
  },
  {
   "cell_type": "markdown",
   "metadata": {
    "collapsed": false
   },
   "source": [
    "### Conclusion\n",
    "In [this TED Talk ](https://www.ted.com/talks/cathy_o_neil_the_era_of_blind_faith_in_big_data_must_end/up-next?language=en) Cathy O'Neil, author of \"Weapons of Math Destruction\", provides a four-step process for auditing the algotithms we use to make important decisions:\n",
    "\n",
    "- **Step 1**: Check the integrety of training data.\n",
    "- **Step 2**: Audit the definition of success.\n",
    "- **Step 3**: Consider algorithmic accuracy by questioning its errors: For whom does the algorithmm fail and what are the consequences?\n",
    "- **Step 4**: Consider the long-term effects of algorithms.\n",
    "\n",
    "As long as we live in a biased world, the algorithms that we deploy to scale our decision-making process with contain those biases. It is our responsibility to do all that we can to increase computational transparency and mitigate adverse effects."
   ]
  },
  {
   "cell_type": "markdown",
   "metadata": {
    "collapsed": false
   },
   "source": [
    "### Exercises\n",
    "\n",
    "#### Problem 1: The Machine Learning Pipeline\n",
    "In this exercise, you will be challenged to follow the machine learning pipeline outlined in the election data example on a new dataset to observe classification results.\n",
    "\n",
    "1a. Load [diabetes]('https://scikit-learn.org/stable/modules/generated/sklearn.datasets.load_diabetes.html#sklearn.datasets.load_diabetes') from scikit-learn datasets module. Be sure that `return_X_y = True'."
   ]
  },
  {
   "cell_type": "code",
   "execution_count": 0,
   "metadata": {
    "collapsed": false
   },
   "outputs": [
   ],
   "source": [
   ]
  },
  {
   "cell_type": "markdown",
   "metadata": {
    "collapsed": false
   },
   "source": [
    "1b. Our data contains 10 feature variables. We are interested in isolating only one feature. For preprocessing, please isolate `Body mass index` and partition the resulting data."
   ]
  },
  {
   "cell_type": "code",
   "execution_count": 0,
   "metadata": {
    "collapsed": false
   },
   "outputs": [
   ],
   "source": [
   ]
  },
  {
   "cell_type": "markdown",
   "metadata": {
    "collapsed": false
   },
   "source": [
    "1c. Fit the data via linear regression. Plot a graph that visualizes the linear regression. Specifically, show how linear regression attempts to draw a straight line to minimize the residual sum of squares between the observed responses in the data and the responses predicted by the linear approximation."
   ]
  },
  {
   "cell_type": "code",
   "execution_count": 0,
   "metadata": {
    "collapsed": false
   },
   "outputs": [
   ],
   "source": [
   ]
  },
  {
   "cell_type": "markdown",
   "metadata": {
    "collapsed": false
   },
   "source": [
    "1d. *Algorithmic bias* is a relevant concern with health data. Please explain how the results of the linear regression model fit to data representing the correlation between BMI and diabetes cases could be used to draw irresponsible conclusions when applied to society at large."
   ]
  },
  {
   "cell_type": "markdown",
   "metadata": {
    "collapsed": false
   },
   "source": [
   ]
  },
  {
   "cell_type": "markdown",
   "metadata": {
    "collapsed": false
   },
   "source": [
    "#### Problem 2: Identifying Algorithmic Bias in Big Data\n",
    "\n",
    "Refer to the Conclusion of this presentation, and watch the linked TED Talk by Cathy O'Neil. In this exercise, you will work through the four-step process she describes on how we can audit the algorithms that we deploy in machine learning to aid the human decision making process.\n",
    "\n",
    "2a. Please describe three ways you can check the integrety of training data before fitting it to a model (no code necessary, although your process should be computationally feasible.)"
   ]
  },
  {
   "cell_type": "markdown",
   "metadata": {
    "collapsed": false
   },
   "source": [
   ]
  },
  {
   "cell_type": "markdown",
   "metadata": {
    "collapsed": false
   },
   "source": [
    "2b. Consider the real-world machine learning problem of facial recognition and \"audit the definition of algorithmic success\" for this task."
   ]
  },
  {
   "cell_type": "markdown",
   "metadata": {
    "collapsed": false
   },
   "source": [
   ]
  },
  {
   "cell_type": "markdown",
   "metadata": {
    "collapsed": false
   },
   "source": [
    "2c. Anticipate potential long-term effects of facial recognition software becoming increasinly prevelant in governmental agencies (ie: policing)."
   ]
  },
  {
   "cell_type": "markdown",
   "metadata": {
    "collapsed": false
   },
   "source": [
   ]
  },
  {
   "cell_type": "markdown",
   "metadata": {
    "collapsed": false
   },
   "source": [
    "### Solutions\n",
    "\n",
    "#### Probelm 1 Solution\n",
    "In this exercise, you will be challenged to follow the machine learning pipeline outlined in the election data example on a dataset of your choice to observe classification results.\n",
    "\n",
    "1a. Load the [diabetes]('https://scikit-learn.org/stable/modules/generated/sklearn.datasets.load_diabetes.html#sklearn.datasets.load_diabetes') from scikit-learn datasets module. Be sure that `return_X_y = True'."
   ]
  },
  {
   "cell_type": "code",
   "execution_count": 0,
   "metadata": {
    "collapsed": false
   },
   "outputs": [
   ],
   "source": [
    "from sklearn import datasets\n",
    "\n",
    "diabetes_X,diabetes_y = datasets.load_diabetes(return_X_y=True)"
   ]
  },
  {
   "cell_type": "markdown",
   "metadata": {
    "collapsed": false
   },
   "source": [
    "1b. Our data contains 10 feature variables. We are interested in isolating only one feature. For preprocessing, please isolate `Body mass index` and partition the resulting data."
   ]
  },
  {
   "cell_type": "code",
   "execution_count": 0,
   "metadata": {
    "collapsed": false
   },
   "outputs": [
   ],
   "source": [
    "# Isolate BMI\n",
    "diabetes_X = diabetes_X[:,np.newaxis,2]\n",
    "\n",
    "# Split data\n",
    "diabetes_X_train = diabetes_X[:-20]\n",
    "diabetes_X_test = diabetes_X[-20:]\n",
    "diabetes_y_train = diabetes_y[:-20]\n",
    "diabetes_y_test = diabetes_y[-20:]"
   ]
  },
  {
   "cell_type": "markdown",
   "metadata": {
    "collapsed": false
   },
   "source": [
    "1c. Fit the data via linear regression. Plot a graph that visualizes the linear regression. Specifically, show how linear regression attempts to draw a straight line to minimize the residual sum of squares between the observed responses in the data and the responses predicted by the linear approximation."
   ]
  },
  {
   "cell_type": "code",
   "execution_count": 0,
   "metadata": {
    "collapsed": false
   },
   "outputs": [
   ],
   "source": [
    "from sklearn import linear_model\n",
    "from sklearn.metrics import classification\n",
    "\n",
    "# Fit to data\n",
    "clf = linear_model.LinearRegression()\n",
    "clf.fit(diabetes_X_train,diabetes_y_train)\n",
    "\n",
    "# Plot outputs\n",
    "diabetes_y_pred = clf.predict(diabetes_X_test)\n",
    "\n",
    "plt.scatter(diabetes_X_test,diabetes_y_test, color='black')\n",
    "plt.plot(diabetes_X_test,diabetes_y_pred)\n",
    "plt.show()"
   ]
  },
  {
   "cell_type": "markdown",
   "metadata": {
    "collapsed": false
   },
   "source": [
    "1d. *Algorithmic bias* is a relevant concern with health data. Please explain how the results of the linear regression model fit to data representing the correlation between BMI and diabetes cases could be used to draw irresponsible conclusions when applied to society at large."
   ]
  },
  {
   "cell_type": "code",
   "execution_count": 0,
   "metadata": {
    "collapsed": false
   },
   "outputs": [
   ],
   "source": [
   ]
  },
  {
   "cell_type": "markdown",
   "metadata": {
    "collapsed": false
   },
   "source": [
    "(Open ended question) In the preprocessing step of the machine learning pipeline, we extracted one feature (BMI) from the rest for our analysis. It would be irresponsible for a health professional to use this regression model to aid in diagnostics of diabetes since it is only considering BMI as a contributing factor. Therefore, this model would contain a certain amount of bias when applied to make decisions about the real world."
   ]
  },
  {
   "cell_type": "markdown",
   "metadata": {
    "collapsed": false
   },
   "source": [
    "#### Problem 2 Solution"
   ]
  },
  {
   "cell_type": "markdown",
   "metadata": {
    "collapsed": false
   },
   "source": [
    "Refer to the Conclusion of this presentation, and watch the linked TED Talk by Cathy O'Neil. In this exercise, you will work through the four-step process she describes on how we can audit the algorithms that we deploy in machine learning to aid the human decision making process.\n",
    "\n",
    "2a. Please describe three ways you can check the integrety of training data before fitting it to a model (no code necessary, although your process should be computationally feasible.)"
   ]
  },
  {
   "cell_type": "markdown",
   "metadata": {
    "collapsed": false
   },
   "source": [
    "1. Ensure that historical data is not missing relevant time periods.\n",
    "2. Diverse demographic data is necessary to model our diverse society. Discard training data that is not representative of the population it is intended to model.\n",
    "3. Apply bias correction framework to dataset."
   ]
  },
  {
   "cell_type": "markdown",
   "metadata": {
    "collapsed": false
   },
   "source": [
    "2b. Consider the real-world machine learning problem of facial recognition and \"audit the definition of algorithmic success\" for this task."
   ]
  },
  {
   "cell_type": "markdown",
   "metadata": {
    "collapsed": false
   },
   "source": [
    "Facial recognition systems work by mapping facial features and comparing information with a database of known faces. Success is determined by correct classification, which involves matching features to known features.\n",
    "\n",
    "Auditing this definition of success, one potential pitfall to point out is that correct classification will be highly dependent on a diverse training dataset, otherwise minority groups would experience classification failure at a much higher rate."
   ]
  },
  {
   "cell_type": "markdown",
   "metadata": {
    "collapsed": false
   },
   "source": [
    "2c. Anticipate potential long-term effects of facial recognition software becoming increasinly prevelant in governmental agencies (ie: policing)."
   ]
  },
  {
   "cell_type": "markdown",
   "metadata": {
    "collapsed": false
   },
   "source": [
    "If we do not obtain and utilize more diverse sets of training data, then our facial recognition software will remain biased. If governmental agencies begin to use these systems at scale, they will disproportionately recognize some groups over others, which is problematic because depending on how and where they are used, this could initiate a feedback loop of biased data."
   ]
  },
  {
   "cell_type": "markdown",
   "metadata": {
    "collapsed": false
   },
   "source": [
    "### References\n",
    "- [1] History of Machine Learning: https://www.dataversity.net/a-brief-history-of-machine-learning/#\n",
    "- [2] Algorithmic Bias: https://en.wikipedia.org/wiki/Algorithmic_bias\n",
    "- [3] Lagrange Multipliers: https://en.wikipedia.org/wiki/Lagrange_multiplier\n",
    "- [4] Election Finances Dataset: https://www.kaggle.com/danerbland/electionfinance\n",
    "- [5] Oscars Demographics Dataset: https://www.kaggle.com/fmejia21/demographics-of-academy-awards-oscars-winners\n",
    "- [6] ID & Correcting Label Bias Paper: https://arxiv.org/pdf/1901.04966v1.pdf\n",
    "- [7] ID & Correcting Label Bias Tutorial: https://towardsdatascience.com/identifying-and-correcting-label-bias-in-machine-learning-ed177d30349e\n",
    "- [8] Debiasing Word Embeddings: https://arxiv.org/pdf/1607.06520.pdf\n",
    "- [9] GloVe dataset: https://www.kaggle.com/rtatman/glove-global-vectors-for-word-representation\n",
    "- [10] GloVe vectors tutorial: https://medium.com/analytics-vidhya/basics-of-using-pre-trained-glove-vectors-in-python-d38905f356db\n",
    "- [11] scikit-learn docs: http://scikit-learn.org/stable/\n",
    "- [12] pandas docs: https://pandas.pydata.org/docs/\n",
    "- [13] python docs: https://docs.python.org/3/\n",
    "- [14] Matplotlib docs: https://matplotlib.org/3.1.1/contents.html\n",
    "- [15] SciPy docs: https://www.scipy.org/docs.html\n",
    "- [16] Linear Regression Diabetes Tutorial: https://scikit-learn.org/stable/auto_examples/linear_model/plot_ols.html#sphx-glr-auto-examples-linear-model-plot-ols-py\n",
    "- [17] Cathy O'Neil TED Talk: https://www.ted.com/talks/cathy_o_neil_the_era_of_blind_faith_in_big_data_must_end/up-next?language=en\n",
    "- [18] Math 157 Lecture 2/28/2020: Machine Learning via Scikit-Learn"
   ]
  },
  {
   "cell_type": "code",
   "execution_count": 0,
   "metadata": {
    "collapsed": false
   },
   "outputs": [
   ],
   "source": [
   ]
  }
 ],
 "metadata": {
  "kernelspec": {
   "display_name": "Python 3 (system-wide)",
   "language": "python",
   "metadata": {
    "cocalc": {
     "description": "Python 3 programming language",
     "priority": 100,
     "url": "https://www.python.org/"
    }
   },
   "name": "python3"
  },
  "language_info": {
   "codemirror_mode": {
    "name": "ipython",
    "version": 3
   },
   "file_extension": ".py",
   "mimetype": "text/x-python",
   "name": "python",
   "nbconvert_exporter": "python",
   "pygments_lexer": "ipython3",
   "version": "3.6.9"
  }
 },
 "nbformat": 4,
 "nbformat_minor": 0
}